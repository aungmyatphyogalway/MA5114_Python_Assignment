{
 "cells": [
  {
   "cell_type": "markdown",
   "id": "3b93c01b",
   "metadata": {},
   "source": [
    "Assignment 4"
   ]
  },
  {
   "cell_type": "code",
   "execution_count": 1,
   "id": "9d84d6d2",
   "metadata": {},
   "outputs": [
    {
     "name": "stdout",
     "output_type": "stream",
     "text": [
      "Requirement already satisfied: Biopython in /Users/aungphyo/opt/anaconda3/lib/python3.9/site-packages (1.79)\r\n",
      "Requirement already satisfied: numpy in /Users/aungphyo/opt/anaconda3/lib/python3.9/site-packages (from Biopython) (1.21.5)\r\n"
     ]
    }
   ],
   "source": [
    "!pip install Biopython"
   ]
  },
  {
   "cell_type": "code",
   "execution_count": 2,
   "id": "ec788c8e",
   "metadata": {},
   "outputs": [],
   "source": [
    "import os\n",
    "os.chdir ('/Users/aungphyo/downloads/')"
   ]
  },
  {
   "cell_type": "code",
   "execution_count": 3,
   "id": "7cfd8d92",
   "metadata": {},
   "outputs": [],
   "source": [
    "genbank=open('genbank_accessions.txt','r').read().splitlines()"
   ]
  },
  {
   "cell_type": "code",
   "execution_count": 4,
   "id": "f67a28b4",
   "metadata": {},
   "outputs": [
    {
     "data": {
      "text/plain": [
       "['JN258408', 'JF801956', 'NC_014649', 'JN036606', 'NC_014637', 'U00096']"
      ]
     },
     "execution_count": 4,
     "metadata": {},
     "output_type": "execute_result"
    }
   ],
   "source": [
    "genbank"
   ]
  },
  {
   "cell_type": "code",
   "execution_count": 5,
   "id": "b2ca1996",
   "metadata": {},
   "outputs": [],
   "source": [
    "from Bio import SeqIO\n",
    "from Bio import Entrez\n",
    "from Bio.Seq import Seq"
   ]
  },
  {
   "cell_type": "code",
   "execution_count": 12,
   "id": "1e3abb92",
   "metadata": {},
   "outputs": [],
   "source": [
    "def analyse_genebank_gc(accession):\n",
    "    Entrez.email = 'appropriate.address@provider.com' # replace with appropriate email address\n",
    "    handle = Entrez.efetch(db=\"nucleotide\", rettype='gb', retmode='text', id=accession)\n",
    "    cds_seq_length=[]\n",
    "    cds_seq=[]\n",
    "    for rec in SeqIO.parse(handle,'genbank'):\n",
    "        if rec.features:\n",
    "            for feature in rec.features:\n",
    "                if feature.type==\"CDS\":\n",
    "                    cd=feature.location.extract(rec).seq\n",
    "                    print(len(cd))\n",
    "                    print(cd)\n",
    "                    cds_seq_length.append(len(cd))\n",
    "                    cds_seq.append(str(cd))\n",
    "    import numpy as np\n",
    "    for i in np.arange(0.2,1.0,0.8):\n",
    "            a=np.quantile(np.array(cds_seq_length),0.2)\n",
    "            b=np.quantile(np.array(cds_seq_length),0.8)\n",
    "            print(a)\n",
    "            print(b)\n",
    "        \n",
    "                        \n",
    "        \n",
    "    \n",
    "                    \n",
    "                    \n",
    "                    "
   ]
  },
  {
   "cell_type": "code",
   "execution_count": 56,
   "id": "782eca8f",
   "metadata": {},
   "outputs": [
    {
     "name": "stdout",
     "output_type": "stream",
     "text": [
      "fail\n"
     ]
    },
    {
     "ename": "HTTPError",
     "evalue": "HTTP Error 400: Bad Request",
     "output_type": "error",
     "traceback": [
      "\u001b[0;31m---------------------------------------------------------------------------\u001b[0m",
      "\u001b[0;31mHTTPError\u001b[0m                                 Traceback (most recent call last)",
      "Input \u001b[0;32mIn [56]\u001b[0m, in \u001b[0;36m<cell line: 1>\u001b[0;34m()\u001b[0m\n\u001b[0;32m----> 1\u001b[0m \u001b[43manalyse_genebank_gc\u001b[49m\u001b[43m(\u001b[49m\u001b[38;5;124;43m'\u001b[39;49m\u001b[38;5;124;43mNC_000883\u001b[39;49m\u001b[38;5;124;43m'\u001b[39;49m\u001b[43m)\u001b[49m\n",
      "Input \u001b[0;32mIn [15]\u001b[0m, in \u001b[0;36manalyse_genebank_gc\u001b[0;34m(accession)\u001b[0m\n\u001b[1;32m     14\u001b[0m \u001b[38;5;28;01mexcept\u001b[39;00m:\n\u001b[1;32m     15\u001b[0m     \u001b[38;5;28mprint\u001b[39m(\u001b[38;5;124m'\u001b[39m\u001b[38;5;124mfail\u001b[39m\u001b[38;5;124m'\u001b[39m)\n\u001b[0;32m---> 17\u001b[0m handle \u001b[38;5;241m=\u001b[39m \u001b[43mEntrez\u001b[49m\u001b[38;5;241;43m.\u001b[39;49m\u001b[43mefetch\u001b[49m\u001b[43m(\u001b[49m\u001b[43mdb\u001b[49m\u001b[38;5;241;43m=\u001b[39;49m\u001b[38;5;124;43m\"\u001b[39;49m\u001b[38;5;124;43mnucleotide\u001b[39;49m\u001b[38;5;124;43m\"\u001b[39;49m\u001b[43m,\u001b[49m\u001b[43m \u001b[49m\u001b[43mrettype\u001b[49m\u001b[38;5;241;43m=\u001b[39;49m\u001b[38;5;124;43m\"\u001b[39;49m\u001b[38;5;124;43mgb\u001b[39;49m\u001b[38;5;124;43m\"\u001b[39;49m\u001b[43m,\u001b[49m\u001b[43m \u001b[49m\u001b[43mretmode\u001b[49m\u001b[38;5;241;43m=\u001b[39;49m\u001b[38;5;124;43m\"\u001b[39;49m\u001b[38;5;124;43mtext\u001b[39;49m\u001b[38;5;124;43m\"\u001b[39;49m\u001b[43m,\u001b[49m\u001b[43m \u001b[49m\u001b[38;5;28;43mid\u001b[39;49m\u001b[38;5;241;43m=\u001b[39;49m\u001b[38;5;124;43m\"\u001b[39;49m\u001b[38;5;124;43maccession\u001b[39;49m\u001b[38;5;124;43m\"\u001b[39;49m\u001b[43m)\u001b[49m\n\u001b[1;32m     18\u001b[0m cds_seq\u001b[38;5;241m=\u001b[39m[]\n\u001b[1;32m     19\u001b[0m \u001b[38;5;28;01mfor\u001b[39;00m rec \u001b[38;5;129;01min\u001b[39;00m SeqIO\u001b[38;5;241m.\u001b[39mparse(handle,\u001b[38;5;124m'\u001b[39m\u001b[38;5;124mgenbank\u001b[39m\u001b[38;5;124m'\u001b[39m):\n",
      "File \u001b[0;32m~/opt/anaconda3/lib/python3.9/site-packages/Bio/Entrez/__init__.py:207\u001b[0m, in \u001b[0;36mefetch\u001b[0;34m(db, **keywords)\u001b[0m\n\u001b[1;32m    203\u001b[0m     \u001b[38;5;28;01mif\u001b[39;00m ids\u001b[38;5;241m.\u001b[39mcount(\u001b[38;5;124m\"\u001b[39m\u001b[38;5;124m,\u001b[39m\u001b[38;5;124m\"\u001b[39m) \u001b[38;5;241m>\u001b[39m\u001b[38;5;241m=\u001b[39m \u001b[38;5;241m200\u001b[39m:\n\u001b[1;32m    204\u001b[0m         \u001b[38;5;66;03m# NCBI prefers an HTTP POST instead of an HTTP GET if there are\u001b[39;00m\n\u001b[1;32m    205\u001b[0m         \u001b[38;5;66;03m# more than about 200 IDs\u001b[39;00m\n\u001b[1;32m    206\u001b[0m         post \u001b[38;5;241m=\u001b[39m \u001b[38;5;28;01mTrue\u001b[39;00m\n\u001b[0;32m--> 207\u001b[0m \u001b[38;5;28;01mreturn\u001b[39;00m \u001b[43m_open\u001b[49m\u001b[43m(\u001b[49m\u001b[43mcgi\u001b[49m\u001b[43m,\u001b[49m\u001b[43m \u001b[49m\u001b[43mvariables\u001b[49m\u001b[43m,\u001b[49m\u001b[43m \u001b[49m\u001b[43mpost\u001b[49m\u001b[38;5;241;43m=\u001b[39;49m\u001b[43mpost\u001b[49m\u001b[43m)\u001b[49m\n",
      "File \u001b[0;32m~/opt/anaconda3/lib/python3.9/site-packages/Bio/Entrez/__init__.py:606\u001b[0m, in \u001b[0;36m_open\u001b[0;34m(cgi, params, post, ecitmatch)\u001b[0m\n\u001b[1;32m    604\u001b[0m         handle \u001b[38;5;241m=\u001b[39m urlopen(cgi, data\u001b[38;5;241m=\u001b[39moptions\u001b[38;5;241m.\u001b[39mencode(\u001b[38;5;124m\"\u001b[39m\u001b[38;5;124mutf8\u001b[39m\u001b[38;5;124m\"\u001b[39m))\n\u001b[1;32m    605\u001b[0m     \u001b[38;5;28;01melse\u001b[39;00m:\n\u001b[0;32m--> 606\u001b[0m         handle \u001b[38;5;241m=\u001b[39m \u001b[43murlopen\u001b[49m\u001b[43m(\u001b[49m\u001b[43mcgi\u001b[49m\u001b[43m)\u001b[49m\n\u001b[1;32m    607\u001b[0m \u001b[38;5;28;01mexcept\u001b[39;00m HTTPError \u001b[38;5;28;01mas\u001b[39;00m exception:\n\u001b[1;32m    608\u001b[0m     \u001b[38;5;66;03m# Reraise if the final try fails\u001b[39;00m\n\u001b[1;32m    609\u001b[0m     \u001b[38;5;28;01mif\u001b[39;00m i \u001b[38;5;241m>\u001b[39m\u001b[38;5;241m=\u001b[39m max_tries \u001b[38;5;241m-\u001b[39m \u001b[38;5;241m1\u001b[39m:\n",
      "File \u001b[0;32m~/opt/anaconda3/lib/python3.9/urllib/request.py:214\u001b[0m, in \u001b[0;36murlopen\u001b[0;34m(url, data, timeout, cafile, capath, cadefault, context)\u001b[0m\n\u001b[1;32m    212\u001b[0m \u001b[38;5;28;01melse\u001b[39;00m:\n\u001b[1;32m    213\u001b[0m     opener \u001b[38;5;241m=\u001b[39m _opener\n\u001b[0;32m--> 214\u001b[0m \u001b[38;5;28;01mreturn\u001b[39;00m \u001b[43mopener\u001b[49m\u001b[38;5;241;43m.\u001b[39;49m\u001b[43mopen\u001b[49m\u001b[43m(\u001b[49m\u001b[43murl\u001b[49m\u001b[43m,\u001b[49m\u001b[43m \u001b[49m\u001b[43mdata\u001b[49m\u001b[43m,\u001b[49m\u001b[43m \u001b[49m\u001b[43mtimeout\u001b[49m\u001b[43m)\u001b[49m\n",
      "File \u001b[0;32m~/opt/anaconda3/lib/python3.9/urllib/request.py:523\u001b[0m, in \u001b[0;36mOpenerDirector.open\u001b[0;34m(self, fullurl, data, timeout)\u001b[0m\n\u001b[1;32m    521\u001b[0m \u001b[38;5;28;01mfor\u001b[39;00m processor \u001b[38;5;129;01min\u001b[39;00m \u001b[38;5;28mself\u001b[39m\u001b[38;5;241m.\u001b[39mprocess_response\u001b[38;5;241m.\u001b[39mget(protocol, []):\n\u001b[1;32m    522\u001b[0m     meth \u001b[38;5;241m=\u001b[39m \u001b[38;5;28mgetattr\u001b[39m(processor, meth_name)\n\u001b[0;32m--> 523\u001b[0m     response \u001b[38;5;241m=\u001b[39m \u001b[43mmeth\u001b[49m\u001b[43m(\u001b[49m\u001b[43mreq\u001b[49m\u001b[43m,\u001b[49m\u001b[43m \u001b[49m\u001b[43mresponse\u001b[49m\u001b[43m)\u001b[49m\n\u001b[1;32m    525\u001b[0m \u001b[38;5;28;01mreturn\u001b[39;00m response\n",
      "File \u001b[0;32m~/opt/anaconda3/lib/python3.9/urllib/request.py:632\u001b[0m, in \u001b[0;36mHTTPErrorProcessor.http_response\u001b[0;34m(self, request, response)\u001b[0m\n\u001b[1;32m    629\u001b[0m \u001b[38;5;66;03m# According to RFC 2616, \"2xx\" code indicates that the client's\u001b[39;00m\n\u001b[1;32m    630\u001b[0m \u001b[38;5;66;03m# request was successfully received, understood, and accepted.\u001b[39;00m\n\u001b[1;32m    631\u001b[0m \u001b[38;5;28;01mif\u001b[39;00m \u001b[38;5;129;01mnot\u001b[39;00m (\u001b[38;5;241m200\u001b[39m \u001b[38;5;241m<\u001b[39m\u001b[38;5;241m=\u001b[39m code \u001b[38;5;241m<\u001b[39m \u001b[38;5;241m300\u001b[39m):\n\u001b[0;32m--> 632\u001b[0m     response \u001b[38;5;241m=\u001b[39m \u001b[38;5;28;43mself\u001b[39;49m\u001b[38;5;241;43m.\u001b[39;49m\u001b[43mparent\u001b[49m\u001b[38;5;241;43m.\u001b[39;49m\u001b[43merror\u001b[49m\u001b[43m(\u001b[49m\n\u001b[1;32m    633\u001b[0m \u001b[43m        \u001b[49m\u001b[38;5;124;43m'\u001b[39;49m\u001b[38;5;124;43mhttp\u001b[39;49m\u001b[38;5;124;43m'\u001b[39;49m\u001b[43m,\u001b[49m\u001b[43m \u001b[49m\u001b[43mrequest\u001b[49m\u001b[43m,\u001b[49m\u001b[43m \u001b[49m\u001b[43mresponse\u001b[49m\u001b[43m,\u001b[49m\u001b[43m \u001b[49m\u001b[43mcode\u001b[49m\u001b[43m,\u001b[49m\u001b[43m \u001b[49m\u001b[43mmsg\u001b[49m\u001b[43m,\u001b[49m\u001b[43m \u001b[49m\u001b[43mhdrs\u001b[49m\u001b[43m)\u001b[49m\n\u001b[1;32m    635\u001b[0m \u001b[38;5;28;01mreturn\u001b[39;00m response\n",
      "File \u001b[0;32m~/opt/anaconda3/lib/python3.9/urllib/request.py:561\u001b[0m, in \u001b[0;36mOpenerDirector.error\u001b[0;34m(self, proto, *args)\u001b[0m\n\u001b[1;32m    559\u001b[0m \u001b[38;5;28;01mif\u001b[39;00m http_err:\n\u001b[1;32m    560\u001b[0m     args \u001b[38;5;241m=\u001b[39m (\u001b[38;5;28mdict\u001b[39m, \u001b[38;5;124m'\u001b[39m\u001b[38;5;124mdefault\u001b[39m\u001b[38;5;124m'\u001b[39m, \u001b[38;5;124m'\u001b[39m\u001b[38;5;124mhttp_error_default\u001b[39m\u001b[38;5;124m'\u001b[39m) \u001b[38;5;241m+\u001b[39m orig_args\n\u001b[0;32m--> 561\u001b[0m     \u001b[38;5;28;01mreturn\u001b[39;00m \u001b[38;5;28;43mself\u001b[39;49m\u001b[38;5;241;43m.\u001b[39;49m\u001b[43m_call_chain\u001b[49m\u001b[43m(\u001b[49m\u001b[38;5;241;43m*\u001b[39;49m\u001b[43margs\u001b[49m\u001b[43m)\u001b[49m\n",
      "File \u001b[0;32m~/opt/anaconda3/lib/python3.9/urllib/request.py:494\u001b[0m, in \u001b[0;36mOpenerDirector._call_chain\u001b[0;34m(self, chain, kind, meth_name, *args)\u001b[0m\n\u001b[1;32m    492\u001b[0m \u001b[38;5;28;01mfor\u001b[39;00m handler \u001b[38;5;129;01min\u001b[39;00m handlers:\n\u001b[1;32m    493\u001b[0m     func \u001b[38;5;241m=\u001b[39m \u001b[38;5;28mgetattr\u001b[39m(handler, meth_name)\n\u001b[0;32m--> 494\u001b[0m     result \u001b[38;5;241m=\u001b[39m \u001b[43mfunc\u001b[49m\u001b[43m(\u001b[49m\u001b[38;5;241;43m*\u001b[39;49m\u001b[43margs\u001b[49m\u001b[43m)\u001b[49m\n\u001b[1;32m    495\u001b[0m     \u001b[38;5;28;01mif\u001b[39;00m result \u001b[38;5;129;01mis\u001b[39;00m \u001b[38;5;129;01mnot\u001b[39;00m \u001b[38;5;28;01mNone\u001b[39;00m:\n\u001b[1;32m    496\u001b[0m         \u001b[38;5;28;01mreturn\u001b[39;00m result\n",
      "File \u001b[0;32m~/opt/anaconda3/lib/python3.9/urllib/request.py:641\u001b[0m, in \u001b[0;36mHTTPDefaultErrorHandler.http_error_default\u001b[0;34m(self, req, fp, code, msg, hdrs)\u001b[0m\n\u001b[1;32m    640\u001b[0m \u001b[38;5;28;01mdef\u001b[39;00m \u001b[38;5;21mhttp_error_default\u001b[39m(\u001b[38;5;28mself\u001b[39m, req, fp, code, msg, hdrs):\n\u001b[0;32m--> 641\u001b[0m     \u001b[38;5;28;01mraise\u001b[39;00m HTTPError(req\u001b[38;5;241m.\u001b[39mfull_url, code, msg, hdrs, fp)\n",
      "\u001b[0;31mHTTPError\u001b[0m: HTTP Error 400: Bad Request"
     ]
    }
   ],
   "source": [
    "analyse_genebank_gc('NC_000883')"
   ]
  },
  {
   "cell_type": "code",
   "execution_count": 54,
   "id": "76a89404",
   "metadata": {},
   "outputs": [],
   "source": [
    "def analyse_genebank_gcc(accession):\n",
    "    from Bio import Entrez\n",
    "    from Bio import SeqIO\n",
    "    import numpy as np\n",
    "    import pandas as pd\n",
    "    import matplotlib.pyplot as plt\n",
    "    \n",
    "    try:\n",
    "        Entrez.email = \"A.N.Other@example.com\" \n",
    "        handle= Entrez.efetch(db=\"nucleotide\", rettype=\"gb\", retmode=\"text\", id=accession)\n",
    "        genbank = SeqIO.read(handle, \"gb\")\n",
    "        handle.close()\n",
    "    \n",
    "    except:\n",
    "        print('Failed to fetch record.')\n",
    "        \n",
    "    handle= Entrez.efetch(db=\"nucleotide\", rettype=\"gb\", retmode=\"text\", id=accession)\n",
    "    seq_list=[]\n",
    "    for rec in SeqIO.parse(handle,'genbank'):\n",
    "        if rec.features:\n",
    "            for feature in rec.features:\n",
    "                if feature.type== 'CDS':\n",
    "                    coding=feature.location.extract(rec).seq\n",
    "                    seq_list.append(str(coding))\n",
    "    print(seq_list)\n",
    "                    \n",
    "    seq_length=[]\n",
    "    for i in seq_list:\n",
    "        ll=len(i)\n",
    "        seq_length.append(ll)\n",
    "    print(seq_length)\n",
    "    \n",
    "    qq=[]\n",
    "    for i in np.arange(0.1,1.0,0.9):\n",
    "        a=np.quantile(np.array(seq_length),0.1)\n",
    "        b=np.quantile(np.array(seq_length),0.9)\n",
    "    \n",
    "        \n",
    "    def gc_count(seq):\n",
    "        c=seq.count('C')\n",
    "        g=seq.count('G')\n",
    "        ratio=(g+c)/(len(seq))*100\n",
    "        return ratio\n",
    "        \n",
    "    short=[]\n",
    "    count=0\n",
    "    for i in seq_list:\n",
    "        if len(i)<a:\n",
    "            short.append(seq_list[count])\n",
    "        count+=1\n",
    "        \n",
    "    short_gc=[]\n",
    "    co=0\n",
    "    for i in short:\n",
    "        short_gc.append(gc_count(short[co]))\n",
    "        co+=1\n",
    "        \n",
    "        \n",
    "    long_cds=[]\n",
    "    count=0\n",
    "    for i in seq_list:\n",
    "        if len(i)>b:\n",
    "            lond_cds.append(seq_list[count])\n",
    "        count+=1\n",
    "        \n",
    "    long_gc=[]\n",
    "    co=0\n",
    "    for i in long_cds:\n",
    "        long_gc.append(gc_count(long_cds[co]))\n",
    "        co+=1\n",
    "        \n",
    "    length_df=pd.DataFrame(seq_length,columns=['lengths']) \n",
    "    min_max=length_df.agg({'lengths':['mean','min','max']})\n",
    "    print(len(seq_list))\n",
    "    print(min_max)\n",
    "    \n",
    "    \n",
    "    plt.hist(seq_length,bins=100)\n",
    "    plt.xlabel('cds lengths')\n",
    "    plt.show()\n",
    "    \n",
    "    data=[short_gc,long_gc]\n",
    "    data_names=['short','long']\n",
    "    fig1,ax1=plt.subplots()\n",
    "    ax1.boxplot(data)\n",
    "    ax1.set_xticklabels(data_names,fontsize=8)\n",
    "    plt.show();\n",
    "        \n",
    "        \n",
    "        \n",
    "                         \n",
    "        \n",
    "    \n",
    "    "
   ]
  },
  {
   "cell_type": "code",
   "execution_count": 55,
   "id": "bb929afa",
   "metadata": {},
   "outputs": [
    {
     "name": "stdout",
     "output_type": "stream",
     "text": [
      "['ATGGAGCTATTTAGAGGGGTGCTTCAAGTTTCTTCTAATGTTCTGGACTGTGCTAACGATAACTGGTGGTGCTCTTTACTAGATTTAGACACTTCTGACTGGGAACCACTAACTCATACTAACAGACTAATGGCAATATACTTAAGCAGTGTGGCTTCTAAGCTTGACCTTACCGGGGGGCCACTAGCAGGGTGCTTGTACTTTTTTCAAGCAGAATGTAACAAATTTGAAGAAGGCTATCATATTCATGTGGTTATTGGGGGGCCAGGGTTAAACCCCAGAAACCTCACAGTGTGTGTAGAGGGGTTATTTAATAATGTACTTTATCACTTTGTAACTGAAAATGTGAAGCTAAAATTTTTGCCAGGAATGACTACAAAAGGCAAATACTTTAGAGATGGAGAGCAGTTTATAGAAAACTATTTAATGAAAAAAATACCTTTAAATGTTGTATGGTGTGTTACTAATATTGATGGATATATAGATACCTGTATTTCTGCTACTTTTAGAAGGGGAGCTTGCCATGCCAAGAAACCCCGCATTACCACAGCCATAAATGATACTAGTAGCGATGCTGGGGAGTCTAGCGGCACAGGGGCAGAGGTTGTGCCATTTAATGGGAAGGGAACTAAGGCTAGCATAAAGTTTCAAACTATGGTAAACTGGTTGTGTGAAAACAGAGTGTTTACAGAGGATAAGTGGAAACTAGTTGACTTTAACCAGTACACTTTACTAAGCAGTAGTCACAGTGGAAGTTTTCAAATTCAAAGTGCACTAAAACTAGCAATTTATAAAGCAACTAATTTAGTGCCTACTAGCACATTTTTATTGCATACAGACTTTGAGCAGGTTATGTGTATTAAAGACAATAAAATTGTTAAATTGTTACTTTGTCAAAACTATGACCCCCTATTGGTGGGGCAGCATGTGTTAAAGTGGATTGATAAAAAATGTGGCAAGAAAAATACACTGTGGTTTTATGGGCCGCCAAGTACAGGAAAAACAAACTTGGCAATGGCCATTGCTAAAAGTGTTCCAGTATATGGCATGGTTAACTGGAATAATGAAAACTTTCCATTTAATGATGTAGCAGGAAAAAGCTTGGTGGTCTGGGATGAAGGTATTATTAAGTCTACAATTGTAGAAGCTGCAAAAGCCATTTTAGGCGGGCAACCCACCAGGGTAGATCAAAAAATGCGTGGAAGTGTAGCTGTGCCTGGAGTACCTGTGGTTATAACCAGCAATGGTGACATTACTTTTGTTGTAAGCGGGAACACTACAACAACTGTACATGCTAAAGCCTTAAAAGAGCGCATGGTAAAGTTAAACTTTACTGTAAGATGCAGCCCTGACATGGGGTTACTAACAGAGGCTGATGTACAACAGTGGCTTACATGGTGTAATGCACAAAGCTGGGACCACTATGAAAACTGGGCAATAAACTACACTTTTGATTTCCCTGGAATTAATGCAGATGCCCTCCACCCAGACCTCCAAACCACCCCAATTGTCACAGACACCAGTATCAGCAGCAGTGGTGGTGAAAGCTCTGAAGAACTCAGTGAAAGCAGCTTTTTTAACCTCATCACCCCAGGCGCCTGGAACACTGAAACCCCGCGCTCTAGTACGCCCATCCCCGGGACCAGTTCAGGAGAATCATTTGTCGGAAGCCCAGTTTCCTCCGAAGTTGTAGCTGCATCGTGGGAAGAAGCCTTCTACACACCTTTGGCAGACCAGTTTCGTGAACTGTTAGTTGGGGTTGATTATGTGTGGGACGGTGTAAGGGGTTTACCTGTGTGTTGTGTGCAACATATTAACAATAGTGGGGGAGGCTTGGGACTTTGTCCCCATTGCATTAATGTAGGGGCTTGGTATAATGGATGGAAATTTCGAGAATTTACCCCAGATTTGGTGCGATGTAGCTGCCATGTGGGAGCTTCTAATCCCTTTTCTGTGCTAACCTGCAAAAAATGTGCTTACCTGTCTGGATTGCAAAGCTTTGTAGATTATGAGTAA', 'ATGCAGATGCCCTCCACCCAGACCTCCAAACCACCCCAATTGTCACAGACACCAGTATCAGCAGCAGTGGTGGTGAAAGCTCTGAAGAACTCAGTGAAAGCAGCTTTTTTAACCTCATCACCCCAGGCGCCTGGAACACTGAAACCCCGCGCTCTAGTACGCCCATCCCCGGGACCAGTTCAGGAGAATCATTTGTCGGAAGCCCAGTTTCCTCCGAAGTTGTAG', 'ATGAGTAAAGAAAGTGGCAAATGGTGGGAAAGTGATGATGAATTTGCTAAAGCTGTGTATCAGCAATTTGTGGAATTTTATGAAAAGGTTACTGGAACAGACTTAGAGCTTATTCAAATATTAAAAGATCATTATAATATTTCTTTAGATAATCCCCTAGAAAACCCATCCTCTCTGTTTGACTTAGTTGCTCGCATTAAAAATAACCTTAAAAATTCTCCAGACTTATATAGTCATCATTTTCAAAGTCATGGACAGTTATCTGACCACCCCCATGCCTTATCATCCAGTAGCAGTCATGCAGAACCTAGAGGAGAAGATGCAGTATTATCTAGTGAAGACTTACACAAGCCTGGGCAAGTTAGCGTACAACTACCCGGTACTAACTATGTTGGGCCTGGCAATGAGCTACAAGCTGGGCCCCCGCAAAGTGCTGTTGACAGTGCTGCAAGGATTCATGACTTTAGGTATAGCCAACTGGCTAAGTTGGGAATAAATCCATATACTCATTGGACTGTAGCAGATGAAGAGCTTTTAAAAAATATAAAAAATGAAACTGGGTTTCAAGCACAAGTAGTAAAAGACTACTTTACTTTAAAAGGTGCAGCTGCCCCTGTGGCCCATTTTCAAGGAAGTTTGCCGGAAGTTCCCGCTTACAACGCCTCAGAAAAATACCCAAGCATGACTTCAGTTAATTCTGCAGAAGCCAGCACTGGTGCAGGAGGGGGGGGCAGTAATCCTGTCAAAAGCATGTGGAGTGAGGGGGCCACTTTTAGTGCCAACTCTGTGACTTGTACATTTTCTAGACAGTTTTTAATTCCATATGACCCAGAGCACCATTATAAGGTGTTTTCTCCCGCAGCAAGTAGCTGCCACAATGCCAGTGGAAAGGAGGCAAAGGTTTGCACCATTAGTCCCATAATGGGATACTCAACCCCATGGAGATATTTAGATTTTAATGCTTTAAACTTATTTTTTTCACCTTTAGAGTTTCAGCACTTAATTGAAAATTATGGAAGTATAGCTCCTGATGCTTTAACTGTAACCATATCAGAAATTGCTGTTAAGGATGTTACAGACAAAACTGGAGGGGGGGTGCAGGTTACTGACAGCACTACAGGGCGCCTATGCATGTTAGTAGACCATGAATACAAGTACCCATATGTGTTAGGGCAAGGTCAAGATACTTTAGCCCCAGAACTTCCTATTTGGGTATACTTTCCCCCTCAATATGCTTACTTAACAGTAGGAGATGTTAACACACAAGGAATTTCTGGAGACAGCAAAAAATTAGCAAGTGAAGAATCAGCATTTTATGTTTTGGAACACAGTTCTTTTCAGCTTTTAGGTACAGGAGGTACAGCAACTATGTCTTATAAGTTTCCTCCAGTGCCCCCAGAAAATTTAGAGGGCTGCAGTCAACACTTTTATGAGATGTACAATCCCTTATACGGATCCCGCTTAGGGGTTCCTGACACATTAGGAGGTGACCCAAAATTTAGATCTTTAACACATGAAGACCATGCAATTCAGCCCCAAAACTTCATGCCAGGGCCACTAGTAAACTCAGTGTCTACAAAGGAGGGAGACAGCTCTAATACTGGAGCTGGGAAAGCCTTAACAGGCCTTAGCACAGGTACCTCTCAAAACACTAGAATATCCTTACGCCCGGGGCCAGTGTCTCAGCCGTACCACCACTGGGACACAGATAAATATGTCACAGGAATAAATGCTATTTCTCATGGTCAGACCACTTATGGTAACGCTGAAGACAAAGAGTATCAGCAAGGAGTGGGTAGATTTCCAAATGAAAAAGAACAGCTAAAACAGTTACAGGGTTTAAACATGCACACCTACTTTCCCAATAAAGGAACCCAGCAATATACAGATCAAATTGAGCGCCCCCTAATGGTGGGTTCTGTATGGAACAGAAGAGCCCTTCACTATGAAAGCCAGCTGTGGAGTAAAATTCCAAATTTAGATGACAGTTTTAAAACTCAGTTTGCAGCCTTAGGAGGATGGGGTTTGCATCAGCCACCTCCTCAAATATTTTTAAAAATATTACCACAAAGTGGGCCAATTGGAGGTATTAAATCAATGGGAATTACTACCTTAGTTCAGTATGCCGTGGGAATTATGACAGTAACCATGACATTTAAATTGGGGCCCCGTAAAGCTACGGGACGGTGGAATCCTCAACCTGGAGTATATCCCCCGCACGCAGCAGGTCATTTACCATATGTACTATATGACCCTACAGCTACAGATGCAAAACAACACCACAGACATGGATATGAAAAGCCTGAAGAATTGTGGACAGCCAAAAGCCGTGTGCACCCATTGTAA', 'ATGGACAGTTATCTGACCACCCCCATGCCTTATCATCCAGTAGCAGTCATGCAGAACCTAGAGGAGAAGATGCAGTATTATCTAGTGAAGACTTACACAAGCCTGGGCAAGTTAGCGTACAACTACCCGGTACTAACTATGTTGGGCCTGGCAATGAGCTACAAGCTGGGCCCCCGCAAAGTGCTGTTGACAGTGCTGCAAGGATTCATGACTTTAGGTATAGCCAACTGGCTAAGTTGGGAATAA', 'ATGACTTCAGTTAATTCTGCAGAAGCCAGCACTGGTGCAGGAGGGGGGGGCAGTAATCCTGTCAAAAGCATGTGGAGTGAGGGGGCCACTTTTAGTGCCAACTCTGTGACTTGTACATTTTCTAGACAGTTTTTAATTCCATATGACCCAGAGCACCATTATAAGGTGTTTTCTCCCGCAGCAAGTAGCTGCCACAATGCCAGTGGAAAGGAGGCAAAGGTTTGCACCATTAGTCCCATAATGGGATACTCAACCCCATGGAGATATTTAGATTTTAATGCTTTAAACTTATTTTTTTCACCTTTAGAGTTTCAGCACTTAATTGAAAATTATGGAAGTATAGCTCCTGATGCTTTAACTGTAACCATATCAGAAATTGCTGTTAAGGATGTTACAGACAAAACTGGAGGGGGGGTGCAGGTTACTGACAGCACTACAGGGCGCCTATGCATGTTAGTAGACCATGAATACAAGTACCCATATGTGTTAGGGCAAGGTCAAGATACTTTAGCCCCAGAACTTCCTATTTGGGTATACTTTCCCCCTCAATATGCTTACTTAACAGTAGGAGATGTTAACACACAAGGAATTTCTGGAGACAGCAAAAAATTAGCAAGTGAAGAATCAGCATTTTATGTTTTGGAACACAGTTCTTTTCAGCTTTTAGGTACAGGAGGTACAGCAACTATGTCTTATAAGTTTCCTCCAGTGCCCCCAGAAAATTTAGAGGGCTGCAGTCAACACTTTTATGAGATGTACAATCCCTTATACGGATCCCGCTTAGGGGTTCCTGACACATTAGGAGGTGACCCAAAATTTAGATCTTTAACACATGAAGACCATGCAATTCAGCCCCAAAACTTCATGCCAGGGCCACTAGTAAACTCAGTGTCTACAAAGGAGGGAGACAGCTCTAATACTGGAGCTGGGAAAGCCTTAACAGGCCTTAGCACAGGTACCTCTCAAAACACTAGAATATCCTTACGCCCGGGGCCAGTGTCTCAGCCGTACCACCACTGGGACACAGATAAATATGTCACAGGAATAAATGCTATTTCTCATGGTCAGACCACTTATGGTAACGCTGAAGACAAAGAGTATCAGCAAGGAGTGGGTAGATTTCCAAATGAAAAAGAACAGCTAAAACAGTTACAGGGTTTAAACATGCACACCTACTTTCCCAATAAAGGAACCCAGCAATATACAGATCAAATTGAGCGCCCCCTAATGGTGGGTTCTGTATGGAACAGAAGAGCCCTTCACTATGAAAGCCAGCTGTGGAGTAAAATTCCAAATTTAGATGACAGTTTTAAAACTCAGTTTGCAGCCTTAGGAGGATGGGGTTTGCATCAGCCACCTCCTCAAATATTTTTAAAAATATTACCACAAAGTGGGCCAATTGGAGGTATTAAATCAATGGGAATTACTACCTTAGTTCAGTATGCCGTGGGAATTATGACAGTAACCATGACATTTAAATTGGGGCCCCGTAAAGCTACGGGACGGTGGAATCCTCAACCTGGAGTATATCCCCCGCACGCAGCAGGTCATTTACCATATGTACTATATGACCCTACAGCTACAGATGCAAAACAACACCACAGACATGGATATGAAAAGCCTGAAGAATTGTGGACAGCCAAAAGCCGTGTGCACCCATTGTAA', 'ATGCAAAACAACACCACAGACATGGATATGAAAAGCCTGAAGAATTGTGGACAGCCAAAAGCCGTGTGCACCCATTGTAAACACTCCCCACCGTGCCCTCAGCCAGGATGCGTAACTAAACGCCCACCAGTACCACCCAGACTGTACCTGCCCCCTCCTATACCTATAAGACAGCCTAACACAAAAGATATAGACAATGTAGAATTTAAGTATTTAACCAGATATGAACAACATGTTATTAGAATGTTAAGATTGTGTAATATGTATCAAAATTTAGAAAAATAA']\n",
      "[2016, 225, 2346, 246, 1665, 285]\n"
     ]
    },
    {
     "ename": "NameError",
     "evalue": "name 'lond_cds' is not defined",
     "output_type": "error",
     "traceback": [
      "\u001b[0;31m---------------------------------------------------------------------------\u001b[0m",
      "\u001b[0;31mNameError\u001b[0m                                 Traceback (most recent call last)",
      "Input \u001b[0;32mIn [55]\u001b[0m, in \u001b[0;36m<cell line: 1>\u001b[0;34m()\u001b[0m\n\u001b[0;32m----> 1\u001b[0m \u001b[43manalyse_genebank_gcc\u001b[49m\u001b[43m(\u001b[49m\u001b[38;5;124;43m'\u001b[39;49m\u001b[38;5;124;43mNC_000883\u001b[39;49m\u001b[38;5;124;43m'\u001b[39;49m\u001b[43m)\u001b[49m\n",
      "Input \u001b[0;32mIn [54]\u001b[0m, in \u001b[0;36manalyse_genebank_gcc\u001b[0;34m(accession)\u001b[0m\n\u001b[1;32m     61\u001b[0m \u001b[38;5;28;01mfor\u001b[39;00m i \u001b[38;5;129;01min\u001b[39;00m seq_list:\n\u001b[1;32m     62\u001b[0m     \u001b[38;5;28;01mif\u001b[39;00m \u001b[38;5;28mlen\u001b[39m(i)\u001b[38;5;241m>\u001b[39mb:\n\u001b[0;32m---> 63\u001b[0m         \u001b[43mlond_cds\u001b[49m\u001b[38;5;241m.\u001b[39mappend(seq_list[count])\n\u001b[1;32m     64\u001b[0m     count\u001b[38;5;241m+\u001b[39m\u001b[38;5;241m=\u001b[39m\u001b[38;5;241m1\u001b[39m\n\u001b[1;32m     66\u001b[0m long_gc\u001b[38;5;241m=\u001b[39m[]\n",
      "\u001b[0;31mNameError\u001b[0m: name 'lond_cds' is not defined"
     ]
    }
   ],
   "source": [
    "analyse_genebank_gcc('NC_000883')\n"
   ]
  },
  {
   "cell_type": "code",
   "execution_count": null,
   "id": "c72a512d",
   "metadata": {},
   "outputs": [],
   "source": [
    "analyse_genebank_gcc(genbank[0])"
   ]
  },
  {
   "cell_type": "code",
   "execution_count": null,
   "id": "f691387f",
   "metadata": {},
   "outputs": [],
   "source": []
  }
 ],
 "metadata": {
  "kernelspec": {
   "display_name": "Python 3 (ipykernel)",
   "language": "python",
   "name": "python3"
  },
  "language_info": {
   "codemirror_mode": {
    "name": "ipython",
    "version": 3
   },
   "file_extension": ".py",
   "mimetype": "text/x-python",
   "name": "python",
   "nbconvert_exporter": "python",
   "pygments_lexer": "ipython3",
   "version": "3.9.12"
  }
 },
 "nbformat": 4,
 "nbformat_minor": 5
}
