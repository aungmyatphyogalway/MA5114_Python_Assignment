{
 "cells": [
  {
   "cell_type": "markdown",
   "metadata": {},
   "source": [
    "### M.Sc. Biomedical Genomics / MA5114 / Autumn 2022\n",
    "\n",
    "#### Homework Assignment 2\n",
    "\n",
    "\n",
    "Sumbit your work via Blackboard as a copy of this `.ipynb` file with your answers in the following format file name: `ma5114_assX_id.ipynb` (replace X with homework number and id with your ID number). For example, the submission of assignment 2 for a student with ID number 201811451 is `ma5114_ass2_201811451.ipynb`\n",
    "\n",
    "Each question carries equal marks. This assignment will make up 10% of the total marks for MA5114.\n"
   ]
  },
  {
   "cell_type": "markdown",
   "metadata": {},
   "source": [
    "#### 1) Bacteria growth\n",
    "\n",
    "The bacteria _F. nucleatum_ replicates every one hour, in a 100 ml tube, reaching the stationary phase when there are 1,000,000 or more bacteria in the tube, where they go into a steady-state population equilibrium.  \n",
    "  \n",
    "**a)** Write a program that will calculate the number of bacteria after one hour, two hours, etc, until stationarity is reached. The program will receive the starter size (number of bacteria to begin with), and start calculating from there. At each time point, the following message should be printed:  \n",
    "< time > hours: < no. of bacteria > bacteria"
   ]
  },
  {
   "cell_type": "code",
   "execution_count": 4,
   "metadata": {
    "scrolled": true
   },
   "outputs": [
    {
     "name": "stdout",
     "output_type": "stream",
     "text": [
      "0 hours - 50100 bacteria\n",
      "1 hours - 100100 bacteria\n",
      "2 hours - 150100 bacteria\n",
      "3 hours - 200100 bacteria\n",
      "4 hours - 250100 bacteria\n",
      "5 hours - 300100 bacteria\n",
      "6 hours - 350100 bacteria\n",
      "7 hours - 400100 bacteria\n",
      "8 hours - 450100 bacteria\n",
      "9 hours - 500100 bacteria\n",
      "10 hours - 550100 bacteria\n",
      "11 hours - 600100 bacteria\n",
      "12 hours - 650100 bacteria\n",
      "13 hours - 700100 bacteria\n",
      "14 hours - 750100 bacteria\n",
      "15 hours - 800100 bacteria\n",
      "16 hours - 850100 bacteria\n",
      "17 hours - 900100 bacteria\n",
      "18 hours - 950100 bacteria\n",
      "reach the stationary phase\n"
     ]
    }
   ],
   "source": [
    "starter = 100 # Replace with a value of your choice.\n",
    "bacteria = int(starter)\n",
    "time= 0\n",
    "bacteria_replication= starter*500\n",
    "total_bacteria= int(bacteria_replication) + int(starter)\n",
    "\n",
    "time=0\n",
    "while total_bacteria<= 1000000:\n",
    "    print(time,'hours','-',total_bacteria,'bacteria')\n",
    "    time=time+1\n",
    "    total_bacteria=total_bacteria+bacteria_replication\n",
    "print(\"reach the stationary phase\")\n",
    "    \n",
    "    \n",
    "    \n",
    "    \n",
    "    \n",
    "    "
   ]
  },
  {
   "cell_type": "markdown",
   "metadata": {},
   "source": [
    "**b)** It turns out that the growth rate of _F. nucleatum_ is affected by temperature. It's replication time *r*, is a function of the temperature T, so that:  \n",
    "\n",
    "$r = \\frac{19 T (T - 70)}{2450} + 10$  \n",
    "\n",
    "However, when the temperature is below 5, or over 50, the bacteria don't grow at all.  \n",
    "\n",
    "Write a program that will receive the starter size __and__ the growth temperature, and will calculate the time to reach stationarity, printing the number of bacteria at each time point (like in part a). If bacteria can't grow, print an appropriate message (and don't do any calculation)."
   ]
  },
  {
   "cell_type": "code",
   "execution_count": 11,
   "metadata": {},
   "outputs": [
    {
     "name": "stdout",
     "output_type": "stream",
     "text": [
      "3.6020408163265305\n",
      "0 hours - 46020 bacteria\n",
      "1 hours - 82040.4081632653 bacteria\n",
      "2 hours - 118060.81632653059 bacteria\n",
      "3 hours - 154081.2244897959 bacteria\n",
      "4 hours - 190101.63265306118 bacteria\n",
      "5 hours - 226122.04081632648 bacteria\n",
      "6 hours - 262142.44897959178 bacteria\n",
      "7 hours - 298162.8571428571 bacteria\n",
      "8 hours - 334183.2653061224 bacteria\n",
      "9 hours - 370203.67346938775 bacteria\n",
      "10 hours - 406224.0816326531 bacteria\n",
      "11 hours - 442244.4897959184 bacteria\n",
      "12 hours - 478264.8979591837 bacteria\n",
      "13 hours - 514285.30612244905 bacteria\n",
      "14 hours - 550305.7142857143 bacteria\n",
      "15 hours - 586326.1224489796 bacteria\n",
      "16 hours - 622346.530612245 bacteria\n",
      "17 hours - 658366.9387755103 bacteria\n",
      "18 hours - 694387.3469387756 bacteria\n",
      "19 hours - 730407.755102041 bacteria\n",
      "20 hours - 766428.1632653063 bacteria\n",
      "21 hours - 802448.5714285716 bacteria\n",
      "22 hours - 838468.9795918369 bacteria\n",
      "23 hours - 874489.3877551022 bacteria\n",
      "24 hours - 910509.7959183676 bacteria\n",
      "25 hours - 946530.2040816329 bacteria\n",
      "26 hours - 982550.6122448982 bacteria\n",
      "reach the stationary phase\n"
     ]
    }
   ],
   "source": [
    "starter = 10000 # Replace with a value of your choice.\n",
    "t = 15 # Replace with a value of your choice.\n",
    "\n",
    "# check temperature and calculate replication time\n",
    "if t >5 and t< 50:\n",
    "    x= (19*t*(t-70)/2450)+10\n",
    "    print(x)\n",
    "else:\n",
    "    print(\"invalid\")\n",
    "    \n",
    "\n",
    "bacteria = int(starter)\n",
    "time= 0\n",
    "bacteria_replication= starter*x\n",
    "total_bacteria= int(bacteria_replication) + int(starter)\n",
    "\n",
    "time=0\n",
    "while total_bacteria<= 1000000:\n",
    "    print(time,'hours','-',total_bacteria,'bacteria')\n",
    "    time=time+1\n",
    "    total_bacteria=total_bacteria+bacteria_replication\n",
    "print(\"reach the stationary phase\")\n",
    "\n",
    "# calculate and growth\n",
    "\n",
    "\n",
    "\n"
   ]
  },
  {
   "cell_type": "markdown",
   "metadata": {},
   "source": [
    "#### 2) Splicing out introns\n",
    "\n",
    "**a)** \n",
    "Here’s a short section of genomic DNA:\n",
    "\n",
    "```\n",
    "ATCGATCGATCGATCGACTGACTAGTCATAGCTATGCAT\n",
    "GTAGCTACTCGATCGATCGATCGATCGATCGATCGATCG\n",
    "ATCGATCATGCTATCATCGATCGATATCGATGCATCGAC\n",
    "TACTAT\n",
    "```\n",
    "\n",
    "It comprises two exons and an intron. The first exon runs from the start of the sequence to the fifty-ninth character, and the second exon runs from the eighty-ninth character to the end of the sequence. \n",
    "\n",
    "Write a program that will print just the coding regions of the DNA sequence."
   ]
  },
  {
   "cell_type": "code",
   "execution_count": null,
   "metadata": {},
   "outputs": [],
   "source": [
    "seq = 'ATCGATCGATCGATCGACTGACTAGTCATAGCTATGCATGTAGCTACTCGATCGATCGATCGATCGATCGATCGATCGATCGATCATGCTATCATCGATCGATATCGATGCATCGACTACTAT'\n",
    "exon1 = seq[0:59]\n",
    "exon2 = seq[88:]\n",
    "coding_region= exon1 + exon2\n",
    "print(coding_region)\n",
    "## your code goes here"
   ]
  },
  {
   "cell_type": "markdown",
   "metadata": {},
   "source": [
    "**b)** \n",
    "Using the sequence from **a)**, write a program that will calculate what percentage of the DNA sequence is coding."
   ]
  },
  {
   "cell_type": "code",
   "execution_count": null,
   "metadata": {},
   "outputs": [],
   "source": [
    "## your code goes here\n",
    "percent_coding= len(coding_region)*100/len(seq)\n",
    "print(percent_coding)"
   ]
  },
  {
   "cell_type": "markdown",
   "metadata": {},
   "source": [
    "**c)**\n",
    "Using the sequence from **a)**, write a program that will print out the original genomic DNA sequence with coding bases in uppercase and non-coding bases in lowercase."
   ]
  },
  {
   "cell_type": "code",
   "execution_count": null,
   "metadata": {},
   "outputs": [],
   "source": [
    "## your code goes here\n",
    "intron= seq[59:88]\n",
    "print(exon1+ intron.lower()+ exon2)"
   ]
  },
  {
   "cell_type": "markdown",
   "metadata": {},
   "source": [
    "#### 3) Processing DNA\n",
    "\n",
    "The list `sequences` below contains a number of DNA sequences as strings. Each sequence starts with the same 14 base pair fragment – a sequencing adapter that should have been removed. \n",
    "\n",
    "Write a program that will trim this adapter and print the cleaned sequences to the screen. The program will then print the length of each cleaned sequence to the screen."
   ]
  },
  {
   "cell_type": "code",
   "execution_count": null,
   "metadata": {},
   "outputs": [],
   "source": [
    "sequences = ['ATTCGATTATAAGCTCGATCGATCGATCGATCGATCGATCGATCGATCGATCGATC', \\\n",
    "'ATTCGATTATAAGCACTGATCGATCGATCGATCGATCGATGCTATCGTCGT', \\\n",
    "'ATTCGATTATAAGCATCGATCACGATCTATCGTACGTATGCATATCGATATCGATCGTAGTC', \\\n",
    "'ATTCGATTATAAGCACTATCGATGATCTAGCTACGATCGTAGCTGTA', \\\n",
    "'ATTCGATTATAAGCACTAGCTAGTCTCGATGCATGATCAGCTTAGCTGATGATGCTATGCA']\n",
    "\n",
    "def trim(seq):\n",
    "    new_seq=seq[14:]\n",
    "    length=len(new_seq)\n",
    "    return(new_seq, length)\n",
    "\n",
    "\n",
    "## your code goes here\n"
   ]
  },
  {
   "cell_type": "code",
   "execution_count": null,
   "metadata": {},
   "outputs": [],
   "source": [
    "print(trim(sequences[0]))\n",
    "print(trim(sequences[1]))\n",
    "print(trim(sequences[2]))\n",
    "print(trim(sequences[3]))\n",
    "print(trim(sequences[4]))"
   ]
  },
  {
   "cell_type": "markdown",
   "metadata": {},
   "source": [
    "#### 4) Multiple exons from genomic DNA\n",
    "\n",
    "The string `genomic_dna` below contains a section of genomic DNA.\n",
    "\n",
    "The list `exons` contains start/stop positions of exons as string indices. \n",
    "Each exon is a separate list (within the list of exons) with two elements: the start and stop positions. \n",
    "\n",
    "Write a program that will extract the exon segments from `genomic_dna` using the positions in `exons`, concatenate them, and print them to the screen."
   ]
  },
  {
   "cell_type": "code",
   "execution_count": null,
   "metadata": {},
   "outputs": [],
   "source": [
    "genomic_dna = 'TCGATCGTACCGTCGACGATGCTACGATCGTCGATCGTAGTCGATCATCGATCGATCGACTGATCGATCGATCGATCGATCGATATCGATCGATATCATCGATGCATCGATCATCGATCGATCGATCGATCGATCGATCATATGTCAGTCGATGCATCGTAGCATCGTATAGTAGCTACGTAGCTACGATCGATCGATCGATCGTAGCTAGCTAGCTAGATCGATCATCATCGTAGCTAGCTCGACTAGCTACGTACGATCGATGCATCGATCGTAGCTAGTACGATCGCGTAGCTAGCATGCTACGTAGATCGATCGATGCATGCTAGCTAGCTAGCTACGATCGATCGATCGATCGATCGATCGATCGATCGATCGATCGTAGCTAGCTACGATCGATGCTACGTAGATCGATCGCTAGTAGATCGATCGCTAGCTAGCTGACTAGTACGCTGCTAGTAGTCAGCTAGATCGATGCTAGTCA'\n",
    "exons = [[4, 57], [73, 132], [191, 272], [342, 397]] # [[start, stop], [start, stop], ...]\n",
    "a=genomic_dna[4:57]\n",
    "b=genomic_dna[73:132]\n",
    "c=genomic_dna[191:272]\n",
    "d=genomic_dna[342:397]\n",
    "print(a+b+c+d)\n",
    "## your code goes here\n",
    "\n"
   ]
  },
  {
   "cell_type": "code",
   "execution_count": null,
   "metadata": {},
   "outputs": [],
   "source": [
    "a=genomic_dna[4:57]\n",
    "b=genomic_dna[73:132]\n",
    "c=genomic_dna[191:272]\n",
    "d=genomic_dna[342:397]\n",
    "print(a+b+c+d)\n"
   ]
  },
  {
   "cell_type": "markdown",
   "metadata": {},
   "source": [
    "#### 5) Drosophila gene expression experiment\n",
    "\n",
    "A set of experiments is conducted using RNA-seq for genes involved in the development of the eye using several species of the common fruit-fly, of which *Drosophila melanogaster* is the best known model organism. The following subset has been extracted and has been placed below in the *list* variable `data` below. Each entry consists of the species name, a DNA sequence corresponding to the first exon, the gene name and expression level measured. \n",
    "\n",
    "Write a program that will (i) print out the gene names belonging to  `Drosophila_melanogaster`, (ii) print out the gene names for all genes between 90 and 110 bp long, (iii) print out the gene names for all genes whose GC content is less that 50% and whose expression level is greater than 210, and (iv) print out the gene names whose name begins with a \"k\" or \"h\" except those belonging to Drosophila_ananassae\n",
    "\n",
    "*tips*\n",
    " - you may find using a function for the GC percentage calculation a useful strategy\n"
   ]
  },
  {
   "cell_type": "code",
   "execution_count": 18,
   "metadata": {},
   "outputs": [
    {
     "name": "stdout",
     "output_type": "stream",
     "text": [
      "gene of droso_melano is kdy647 and jdg766\n",
      "109\n",
      "78\n",
      "90\n",
      "42\n",
      "117\n",
      "98\n",
      "gene of 90 and 110 bp are kdy647 kdy533 hdu045 teg436\n"
     ]
    }
   ],
   "source": [
    "data = ['Drosophila_melanogaster,atatatatatcgcgtatatatacgactatatgcattaattatagcatatcgatatatatatcgatattatatcgcattatacgcgcgtaattatatcgcgtaattacga,kdy647,264',\n",
    "'Drosophila_melanogaster,actgtgacgtgtactgtacgactatcgatacgtagtactgatcgctactgtaatgcatccatgctgacgtatctaagt,jdg766,185',\n",
    "'Drosophila_simulans,atcgatcatgtcgatcgatgatgcatccgactatcgtcgatcgtgatcgatcgatcgatcatcgatcgatgtcgatcatgtcgatatcgt,kdy533,485',\n",
    "'Drosophila_yakuba,cgcgcgctcgcgcatacggcctaatgcgcgcgctagcgatgc,hdt739,85',\n",
    "'Drosophila_ananassae,ttacgatcgatcgatcgatcgatcgtcgatcgtcgatgctacatcgatcatcatcggattagtcacatcgatcgatcatcgactgatcgtcgatcgtagatgctgacatcgatagca,hdu045,356',\n",
    "'Drosophila_ananassae,gcatcgatcgatcgcggcgcatcgatcgcgatcatcgatcatacgcgtcatatctatacgtcactgccgcgcgtatctacgcgatgactagctagact,teg436,222']\n",
    "\n",
    "## your code goes here\n",
    "a= data[0]\n",
    "k=a.split(',')\n",
    "b=data[1]\n",
    "l=b.split(',')\n",
    "c=data[2]\n",
    "d=data[3]\n",
    "e=data[4]\n",
    "f=data[5]\n",
    "m=c.split(',')\n",
    "n=d.split(',')\n",
    "o=e.split(',')\n",
    "p=f.split(',')\n",
    "data1=k+l+m+n+o+p\n",
    "print(\"gene of droso_melano is\",k[2], 'and', l[2]) \n",
    "print(len(k[1]))\n",
    "print(len(l[1]))\n",
    "print(len(m[1]))\n",
    "print(len(n[1]))\n",
    "print(len(o[1]))\n",
    "print(len(p[1]))\n",
    "\n",
    "print(\"gene of 90 and 110 bp are\", k[2] ,m[2] , o[2] , p[2])"
   ]
  },
  {
   "cell_type": "code",
   "execution_count": null,
   "metadata": {},
   "outputs": [],
   "source": [
    "\n",
    "    "
   ]
  },
  {
   "cell_type": "code",
   "execution_count": null,
   "metadata": {},
   "outputs": [],
   "source": []
  },
  {
   "cell_type": "code",
   "execution_count": null,
   "metadata": {},
   "outputs": [],
   "source": []
  }
 ],
 "metadata": {
  "kernelspec": {
   "display_name": "Python 3 (ipykernel)",
   "language": "python",
   "name": "python3"
  },
  "language_info": {
   "codemirror_mode": {
    "name": "ipython",
    "version": 3
   },
   "file_extension": ".py",
   "mimetype": "text/x-python",
   "name": "python",
   "nbconvert_exporter": "python",
   "pygments_lexer": "ipython3",
   "version": "3.9.12"
  }
 },
 "nbformat": 4,
 "nbformat_minor": 2
}
